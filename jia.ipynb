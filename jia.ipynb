{
 "cells": [
  {
   "cell_type": "markdown",
   "metadata": {},
   "source": [
    "1.What will be the output of the following Python code snippet?\n",
    "\n",
    "total={}<br>\n",
    "def insert(items):\n",
    ">if items in total:\n",
    "\n",
    ">>total[items] += 1\n",
    "\n",
    ">else:\n",
    "\n",
    ">>total[items] = 1\n",
    "\n",
    "insert('Apple')<br>\n",
    "insert('Ball')<br>\n",
    "insert('Apple')<br>\n",
    "print (len(total))<br>\n",
    "\n",
    "a) 3<br>\n",
    "b) 1<br>\n",
    "c) 2<br>\n",
    "d) 0"
   ]
  },
  {
   "cell_type": "markdown",
   "metadata": {},
   "source": [
    "2.What will be the output of the following Python code?\n",
    "\n",
    "for i in range(10):\n",
    ">if i == 5:\n",
    "\n",
    ">>break\n",
    "\n",
    ">else:\n",
    "\n",
    ">>print(i)\n",
    "\n",
    "else:\n",
    ">print(\"Here\")\n",
    "\n",
    "a) 0 1 2 3 4 Here<br>\n",
    "b) 0 1 2 3 4 5 Here<br>\n",
    "c) 0 1 2 3 4<br>\n",
    "d) 1 2 3 4 5"
   ]
  },
  {
   "cell_type": "markdown",
   "metadata": {},
   "source": [
    "3.What will be the output of the following Python code snippet?<br>\n",
    "x = 2<br>\n",
    "for i in range(x):\n",
    ">x -= 2<br>\n",
    "print (x)\n",
    "    \n",
    "a) 0 1 2 3 4 …<br>\n",
    "b) 0 -2<br>\n",
    "c) 0<br>\n",
    "d) error"
   ]
  },
  {
   "cell_type": "markdown",
   "metadata": {},
   "source": [
    "4.What will be the output of the following Python code?<br><br>\n",
    "a=[1,2,3]<br>\n",
    "b=a.append(4)<br>\n",
    "print(a)<br>\n",
    "print(b)<br>\n",
    "a)<br>\n",
    "[1,2,3,4]<br>\n",
    "[1,2,3,4]<br><br>\n",
    "b)<br>\n",
    "[1, 2, 3, 4]<br>\n",
    "None<br><br>\n",
    "c) Syntax error<br><br>\n",
    "d)<br>\n",
    "[1,2,3]<br>\n",
    "[1,2,3,4]"
   ]
  },
  {
   "cell_type": "markdown",
   "metadata": {},
   "source": [
    "5. What will be the value of X in the following Python expression?<br><br>\n",
    "X = 2+9*((3*12)-8)/10<br><br>\n",
    "a) 30.0<br>\n",
    "b) 30.8<br>\n",
    "c) 28.4<br>\n",
    "d) 27.2"
   ]
  },
  {
   "cell_type": "markdown",
   "metadata": {},
   "source": [
    "6.What will be the output of the following Python code?<br><br>\n",
    "d = {0: 'a', 1: 'b', 2: 'c'}<br>\n",
    "for x in d.keys():<br>\n",
    "    print(d[x])<br><br>\n",
    "a) 0 1 2<br>\n",
    "b) a b c<br>\n",
    "c) 0 a 1 b 2 c<br>\n",
    "d) none of the mentioned"
   ]
  },
  {
   "cell_type": "markdown",
   "metadata": {},
   "source": [
    "7.What will be the output of the following Python code?<br><br>\n",
    "d = {0: 'a', 1: 'b', 2: 'c'}<br>\n",
    "for x in d.values():<br>\n",
    "    print(d[x])<br><br>\n",
    "a) 0 1 2<br>\n",
    "b) a b c<br>\n",
    "c) 0 a 1 b 2 c<br>\n",
    "d) none of the mentioned"
   ]
  },
  {
   "cell_type": "markdown",
   "metadata": {},
   "source": [
    "8.What will be the output of the following Python code?<br><br>\n",
    "x = 'abcd'<br>\n",
    "for i in range(x):\n",
    ">print(i)\n",
    "\n",
    "a) a b c d<br>\n",
    "b) 0 1 2 3<br>\n",
    "c) error<br>\n",
    "d) none of the mentioned"
   ]
  },
  {
   "cell_type": "markdown",
   "metadata": {},
   "source": [
    "9.What will be the output of the following Python code?<br><br>\n",
    "a,b=6,7<br>\n",
    "a,b=b,a<br>\n",
    "a,b<br><br>\n",
    "a) (6,7)<br>\n",
    "b) Invalid syntax<br>\n",
    "c) (7,6)<br>\n",
    "d) Nothing is printed"
   ]
  },
  {
   "cell_type": "markdown",
   "metadata": {},
   "source": [
    "10.What will be the output of the following Python code?<br><br>\n",
    "a=(2,3,1,5)<br>\n",
    "a.sort()<br>\n",
    "a<br><br>\n",
    "a) (1,2,3,5)<br>\n",
    "b) (2,3,1,5)<br>\n",
    "c) None<br>\n",
    "d) Error, tuple has no attribute sort"
   ]
  },
  {
   "cell_type": "markdown",
   "metadata": {},
   "source": [
    "11. What will be the output of the following Python code?<br><br>\n",
    "lst=[3,4,6,1,2]<br>\n",
    "lst[1:2]=[7,8]<br>\n",
    "print(lst)<br><br>\n",
    "a) [3, 7, 8, 6, 1, 2]<br>\n",
    "b) Syntax error<br>\n",
    "c) [3,[7,8],6,1,2]<br>\n",
    "d) [3,4,6,7,8]"
   ]
  },
  {
   "cell_type": "markdown",
   "metadata": {},
   "source": [
    "12.What will be the output of the following Python code?<br><br>\n",
    "numbers = [1, 2, 3, 4]<br>\n",
    "numbers.append([5,6,7,8])<br>\n",
    "print(len(numbers))<br><br>\n",
    "a) 4<br>\n",
    "b) 5<br>\n",
    "c) 8<br>\n",
    "d) 12"
   ]
  },
  {
   "cell_type": "code",
   "execution_count": 1,
   "metadata": {},
   "outputs": [
    {
     "name": "stdout",
     "output_type": "stream",
     "text": [
      "5\n"
     ]
    }
   ],
   "source": [
    "numbers = [1, 2, 3, 4]\n",
    "numbers.append([5,6,7,8])\n",
    "print(len(numbers))"
   ]
  },
  {
   "cell_type": "markdown",
   "metadata": {},
   "source": [
    "13.What will be the output of the following Python code?<br><br>\n",
    "a={5,6,7,8}<br>\n",
    "b={7,8,9,10}<br>\n",
    "len(a+b)<br><br>\n",
    "a) 8<br>\n",
    "b) Error, unsupported operand ‘+’ for sets<br>\n",
    "c) 6<br>\n",
    "d) Nothing is displayed"
   ]
  },
  {
   "cell_type": "code",
   "execution_count": 1,
   "metadata": {},
   "outputs": [
    {
     "ename": "TypeError",
     "evalue": "unsupported operand type(s) for +: 'set' and 'set'",
     "output_type": "error",
     "traceback": [
      "\u001b[1;31m---------------------------------------------------------------------------\u001b[0m",
      "\u001b[1;31mTypeError\u001b[0m                                 Traceback (most recent call last)",
      "\u001b[1;32m<ipython-input-1-cc67da145679>\u001b[0m in \u001b[0;36m<module>\u001b[1;34m\u001b[0m\n\u001b[0;32m      1\u001b[0m \u001b[0ma\u001b[0m\u001b[1;33m=\u001b[0m\u001b[1;33m{\u001b[0m\u001b[1;36m5\u001b[0m\u001b[1;33m,\u001b[0m\u001b[1;36m6\u001b[0m\u001b[1;33m,\u001b[0m\u001b[1;36m7\u001b[0m\u001b[1;33m,\u001b[0m\u001b[1;36m8\u001b[0m\u001b[1;33m}\u001b[0m\u001b[1;33m\u001b[0m\u001b[1;33m\u001b[0m\u001b[0m\n\u001b[0;32m      2\u001b[0m \u001b[0mb\u001b[0m\u001b[1;33m=\u001b[0m\u001b[1;33m{\u001b[0m\u001b[1;36m7\u001b[0m\u001b[1;33m,\u001b[0m\u001b[1;36m8\u001b[0m\u001b[1;33m,\u001b[0m\u001b[1;36m9\u001b[0m\u001b[1;33m,\u001b[0m\u001b[1;36m10\u001b[0m\u001b[1;33m}\u001b[0m\u001b[1;33m\u001b[0m\u001b[1;33m\u001b[0m\u001b[0m\n\u001b[1;32m----> 3\u001b[1;33m \u001b[0mlen\u001b[0m\u001b[1;33m(\u001b[0m\u001b[0ma\u001b[0m\u001b[1;33m+\u001b[0m\u001b[0mb\u001b[0m\u001b[1;33m)\u001b[0m\u001b[1;33m\u001b[0m\u001b[1;33m\u001b[0m\u001b[0m\n\u001b[0m",
      "\u001b[1;31mTypeError\u001b[0m: unsupported operand type(s) for +: 'set' and 'set'"
     ]
    }
   ],
   "source": [
    "a={5,6,7,8}\n",
    "b={7,8,9,10}\n",
    "len(a+b)"
   ]
  },
  {
   "cell_type": "markdown",
   "metadata": {},
   "source": [
    "14.What will be the output of the following Python code?<br><br>\n",
    "class Truth:<br>\n",
    "\tpass<br>\n",
    "x=Truth()<br>\n",
    "bool(x)<br><br>\n",
    "a) pass<br>\n",
    "b) true<br>\n",
    "c) false<br>\n",
    "d) error"
   ]
  },
  {
   "cell_type": "markdown",
   "metadata": {},
   "source": [
    "15.What will be the output of the following Python code?<br><br>\n",
    "if (9 < 0) and (0 < -9):\n",
    ">print(\"hello\")\n",
    "\n",
    "elif (9 > 0) or False:\n",
    ">print(\"good\")\n",
    "\n",
    "else:\n",
    ">print(\"bad\")\n",
    "    \n",
    "a) error<br>\n",
    "b) hello<br>\n",
    "c) good<br>\n",
    "d) bad"
   ]
  },
  {
   "cell_type": "markdown",
   "metadata": {},
   "source": [
    "16.What will be the output of the following Python code?<br><br>\n",
    "class tester:<br>\n",
    ">def $__init__$(self, id):\n",
    ">>self.id = str(id)<br>\n",
    "id=\"224\"\n",
    "\n",
    "temp = tester(12)<br>\n",
    "print(temp.id)<br><br>\n",
    "a) 224<br>\n",
    "b) Error<br>\n",
    "c) 12<br>\n",
    "d) None"
   ]
  },
  {
   "cell_type": "markdown",
   "metadata": {},
   "source": [
    "17.The format function, when applied on a string returns ___________<br>\n",
    "a) Error<br>\n",
    "b) int<br>\n",
    "c) bool<br>\n",
    "d) str"
   ]
  },
  {
   "cell_type": "markdown",
   "metadata": {},
   "source": [
    "18.The output of the following code is: class<’set’>.<br><br>\n",
    "type({})<br><br>\n",
    "a) True<br>\n",
    "b) False<br>"
   ]
  },
  {
   "cell_type": "markdown",
   "metadata": {},
   "source": [
    "19. What data type is the object below?<br><br>\n",
    "L = [1, 23, 'hello', 1]<br><br>\n",
    "a) list<br>\n",
    "b) dictionary<br>\n",
    "c) array<br>\n",
    "d) tuple"
   ]
  },
  {
   "cell_type": "markdown",
   "metadata": {},
   "source": [
    "20. What will be the output of the following Python code?<br><br>\n",
    "i = 1<br>\n",
    "while True:\n",
    ">if i%2 == 0:\n",
    ">>break<br>\n",
    ">print(i)<br>\n",
    "    i += 2\n",
    "\n",
    "a) 1<br>\n",
    "b) 1 2<br>\n",
    "c) 1 2 3 4 5 6 …<br>\n",
    "d) 1 3 5 7 9 11 …"
   ]
  },
  {
   "cell_type": "code",
   "execution_count": null,
   "metadata": {},
   "outputs": [],
   "source": []
  },
  {
   "cell_type": "code",
   "execution_count": null,
   "metadata": {},
   "outputs": [],
   "source": []
  },
  {
   "cell_type": "code",
   "execution_count": null,
   "metadata": {},
   "outputs": [],
   "source": []
  },
  {
   "cell_type": "code",
   "execution_count": null,
   "metadata": {},
   "outputs": [],
   "source": []
  },
  {
   "cell_type": "code",
   "execution_count": null,
   "metadata": {},
   "outputs": [],
   "source": []
  },
  {
   "cell_type": "code",
   "execution_count": null,
   "metadata": {},
   "outputs": [],
   "source": []
  },
  {
   "cell_type": "code",
   "execution_count": null,
   "metadata": {},
   "outputs": [],
   "source": []
  },
  {
   "cell_type": "code",
   "execution_count": null,
   "metadata": {},
   "outputs": [],
   "source": []
  },
  {
   "cell_type": "code",
   "execution_count": null,
   "metadata": {},
   "outputs": [],
   "source": []
  },
  {
   "cell_type": "code",
   "execution_count": null,
   "metadata": {},
   "outputs": [],
   "source": []
  },
  {
   "cell_type": "code",
   "execution_count": null,
   "metadata": {},
   "outputs": [],
   "source": []
  },
  {
   "cell_type": "code",
   "execution_count": null,
   "metadata": {},
   "outputs": [],
   "source": []
  },
  {
   "cell_type": "code",
   "execution_count": null,
   "metadata": {},
   "outputs": [],
   "source": []
  },
  {
   "cell_type": "code",
   "execution_count": null,
   "metadata": {},
   "outputs": [],
   "source": []
  },
  {
   "cell_type": "code",
   "execution_count": null,
   "metadata": {},
   "outputs": [],
   "source": []
  },
  {
   "cell_type": "code",
   "execution_count": null,
   "metadata": {},
   "outputs": [],
   "source": []
  },
  {
   "cell_type": "code",
   "execution_count": null,
   "metadata": {},
   "outputs": [],
   "source": []
  },
  {
   "cell_type": "code",
   "execution_count": null,
   "metadata": {},
   "outputs": [],
   "source": []
  },
  {
   "cell_type": "code",
   "execution_count": null,
   "metadata": {},
   "outputs": [],
   "source": []
  },
  {
   "cell_type": "code",
   "execution_count": null,
   "metadata": {},
   "outputs": [],
   "source": []
  },
  {
   "cell_type": "code",
   "execution_count": null,
   "metadata": {},
   "outputs": [],
   "source": []
  },
  {
   "cell_type": "code",
   "execution_count": null,
   "metadata": {},
   "outputs": [],
   "source": []
  },
  {
   "cell_type": "code",
   "execution_count": null,
   "metadata": {},
   "outputs": [],
   "source": [
    "1.c\n",
    "2.c\n",
    "3.b\n",
    "4.b\n",
    "5.d\n",
    "6.b\n",
    "7.d\n",
    "8.c\n",
    "9.c\n",
    "10.d\n",
    "11.a\n",
    "12.b\n",
    "13.b\n",
    "14.b\n",
    "15.c\n",
    "16.c\n",
    "17.d\n",
    "18.b\n",
    "19.a\n",
    "20.d"
   ]
  }
 ],
 "metadata": {
  "kernelspec": {
   "display_name": "Python 3",
   "language": "python",
   "name": "python3"
  },
  "language_info": {
   "codemirror_mode": {
    "name": "ipython",
    "version": 3
   },
   "file_extension": ".py",
   "mimetype": "text/x-python",
   "name": "python",
   "nbconvert_exporter": "python",
   "pygments_lexer": "ipython3",
   "version": "3.7.3"
  },
  "nbTranslate": {
   "displayLangs": [
    "*"
   ],
   "hotkey": "alt-t",
   "langInMainMenu": true,
   "sourceLang": "en",
   "targetLang": "fr",
   "useGoogleTranslate": true
  },
  "toc": {
   "base_numbering": 1,
   "nav_menu": {},
   "number_sections": true,
   "sideBar": true,
   "skip_h1_title": false,
   "title_cell": "Table of Contents",
   "title_sidebar": "Contents",
   "toc_cell": false,
   "toc_position": {},
   "toc_section_display": true,
   "toc_window_display": false
  },
  "varInspector": {
   "cols": {
    "lenName": 16,
    "lenType": 16,
    "lenVar": 40
   },
   "kernels_config": {
    "python": {
     "delete_cmd_postfix": "",
     "delete_cmd_prefix": "del ",
     "library": "var_list.py",
     "varRefreshCmd": "print(var_dic_list())"
    },
    "r": {
     "delete_cmd_postfix": ") ",
     "delete_cmd_prefix": "rm(",
     "library": "var_list.r",
     "varRefreshCmd": "cat(var_dic_list()) "
    }
   },
   "types_to_exclude": [
    "module",
    "function",
    "builtin_function_or_method",
    "instance",
    "_Feature"
   ],
   "window_display": false
  }
 },
 "nbformat": 4,
 "nbformat_minor": 2
}
