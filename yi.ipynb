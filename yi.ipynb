{
 "cells": [
  {
   "cell_type": "markdown",
   "metadata": {},
   "source": [
    "1.What will be the output of the following Python code snippet?\n",
    "<br><br>\n",
    "a = {}<br>\n",
    "a[1] = 1<br>\n",
    "a['1'] = 2<br>\n",
    "a[1.0]=4<br>\n",
    "count = 0<br>\n",
    "for i in a:<br>\n",
    ">count += a[i]\n",
    "\n",
    "print(count)\n",
    "\n",
    "a) An exception is thrown<br>\n",
    "b) 3<br>\n",
    "c) 6<br>\n",
    "d) 2"
   ]
  },
  {
   "cell_type": "markdown",
   "metadata": {},
   "source": [
    "2.What will be the output of the following Python code?\n",
    "\n",
    "for i in range(5):\n",
    ">if i == 5:\n",
    ">>break\n",
    ">else:\n",
    ">>print(i)\n",
    "\n",
    "else:\n",
    "\n",
    ">print(\"Here\")\n",
    "\n",
    "a) 0 1 2 3 4 Here<br>\n",
    "b) 0 1 2 3 4 5 Here<br>\n",
    "c) 0 1 2 3 4<br>\n",
    "d) 1 2 3 4 5"
   ]
  },
  {
   "cell_type": "markdown",
   "metadata": {},
   "source": [
    "3.What will be the output of the following Python code snippet?<br>\n",
    "x = 2<br>\n",
    "for i in range(x):\n",
    ">x += 1<br>\n",
    "print (x)\n",
    "    \n",
    "a) 0 1 2 3 4 …<br>\n",
    "b) 0 1<br>\n",
    "c) 3 4<br>\n",
    "d) 0 1 2 3"
   ]
  },
  {
   "cell_type": "markdown",
   "metadata": {},
   "source": [
    "4.What will be the output of the following Python code?<br>\n",
    "\n",
    "a= [1, 2, 3, 4, 5]<br>\n",
    "for i in range(1, 5):\n",
    ">a[i-1] = a[i]\n",
    "\n",
    "for i in range(0, 5): \n",
    ">print(a[i],end = \" \")\n",
    "    \n",
    "a) 5 5 1 2 3<br>\n",
    "b) 5 1 2 3 4<br>\n",
    "c) 2 3 4 5 1<br>\n",
    "d) 2 3 4 5 5"
   ]
  },
  {
   "cell_type": "markdown",
   "metadata": {},
   "source": [
    "5.What will be the value of the following Python expression?\n",
    "<br><br>\n",
    "4+2**5//10<br><br>\n",
    "a) 3<br>\n",
    "b) 7<br>\n",
    "c) 77<br>\n",
    "d) 0"
   ]
  },
  {
   "cell_type": "markdown",
   "metadata": {},
   "source": [
    "6.What will be the output of the following Python code?<br><br>\n",
    "d = {0: 'a', 1: 'b', 2: 'c'}<br>\n",
    "for x in d.values():\n",
    ">print(x)\n",
    "\n",
    "a) 0 1 2<br>\n",
    "b) a b c<br>\n",
    "c) 0 a 1 b 2 c<br>\n",
    "d) none of the mentioned"
   ]
  },
  {
   "cell_type": "code",
   "execution_count": 4,
   "metadata": {},
   "outputs": [
    {
     "name": "stdout",
     "output_type": "stream",
     "text": [
      "a\n",
      "b\n",
      "c\n"
     ]
    }
   ],
   "source": [
    "d = {0: 'a', 1: 'b', 2: 'c'}\n",
    "for x in d.values():\n",
    "    print(x)"
   ]
  },
  {
   "cell_type": "code",
   "execution_count": 2,
   "metadata": {},
   "outputs": [
    {
     "name": "stdout",
     "output_type": "stream",
     "text": [
      "a\n",
      "b\n",
      "c\n"
     ]
    }
   ],
   "source": [
    "d = {0: 'a', 1: 'b', 2: 'c'}\n",
    "for x in d.values():\n",
    "\n",
    "    print(x)"
   ]
  },
  {
   "cell_type": "markdown",
   "metadata": {},
   "source": [
    "7.What will be the output of the following Python code?<br><br>\n",
    "x = 123<br>\n",
    "for i in x:\n",
    ">print(i)\n",
    "\n",
    "a) 1 2 3<br>\n",
    "b) 123<br>\n",
    "c) error<br>\n",
    "d) none of the mentioned"
   ]
  },
  {
   "cell_type": "markdown",
   "metadata": {},
   "source": [
    "8.What will be the output of the following Python code?<br><br>\n",
    "\n",
    "x = 'abcd'<br>\n",
    "for i in x:\n",
    ">print(i.upper())\n",
    "\n",
    "a) a b c d<br>\n",
    "b) A B C D<br>\n",
    "c) a B C D<br>\n",
    "d) error"
   ]
  },
  {
   "cell_type": "markdown",
   "metadata": {},
   "source": [
    "9.What will be the output of the following Python code?<br><br>\n",
    "\n",
    " a=(1,2)<br>\n",
    " b=(3,4)<br>\n",
    " c=a+b<br>\n",
    " c<br><br>\n",
    "a) (4,6)<br>\n",
    "b) (1,2,3,4)<br>\n",
    "c) Error as tuples are immutable<br>\n",
    "d) None"
   ]
  },
  {
   "cell_type": "markdown",
   "metadata": {},
   "source": [
    "10.Is the following Python code valid?<br><br>\n",
    "a=(1,2,3)<br>\n",
    "b=a.update(4,)<br><br>\n",
    "a) Yes, a=(1,2,3,4) and b=(1,2,3,4)<br>\n",
    "b) Yes, a=(1,2,3) and b=(1,2,3,4)<br>\n",
    "c) No because tuples are immutable<br>\n",
    "d) No because wrong syntax for update() method"
   ]
  },
  {
   "cell_type": "markdown",
   "metadata": {},
   "source": [
    "11. What will be the output of the following Python code?<br><br>\n",
    "a=[10,23,56,[78]]<br>\n",
    "b=list(a)<br>\n",
    "a[3][0]=95<br>\n",
    "a[1]=34<br>\n",
    "print(b)<br><br>\n",
    "a) [10,34,56,[95]]<br>\n",
    "b) [10,23,56,[78]]<br>\n",
    "c) [10,23,56,[95]]<br>\n",
    "d) [10,34,56,[78]]"
   ]
  },
  {
   "cell_type": "markdown",
   "metadata": {},
   "source": [
    "12.What will be the output of the following Python code?<br><br>\n",
    "names1 = ['Amir', 'Bala', 'Chales']<br>\n",
    "if 'amir' in names1:\n",
    ">print(1)\n",
    "    \n",
    "else:\n",
    ">print(2)\n",
    "    \n",
    "a) None<br>\n",
    "b) 1<br>\n",
    "c) 2<br>\n",
    "d) Error"
   ]
  },
  {
   "cell_type": "markdown",
   "metadata": {},
   "source": [
    "13.What will be the output of the following Python code?<br><br>\n",
    "a={5,6,7}<br>\n",
    "sum(a,5)<br><br>\n",
    "a) 5<br>\n",
    "b) 23<br>\n",
    "c) 18<br>\n",
    "d) Invalid syntax for sum method, too many arguments"
   ]
  },
  {
   "cell_type": "markdown",
   "metadata": {},
   "source": [
    "14.What will be the output of the following Python code snippet?<br><br>\n",
    "not(3>4)<br>\n",
    "not(1&1)<br><br>\n",
    "a)<br>\n",
    "   True<br>\n",
    "   True<br><br>\n",
    "b)<br>\n",
    "   True<br>\n",
    "   False<br><br>\n",
    "c)<br>\n",
    "   False<br>\n",
    "   True<br><br>\n",
    "d)<br>\n",
    "   False<br>\n",
    "   False"
   ]
  },
  {
   "cell_type": "markdown",
   "metadata": {},
   "source": [
    "15.Which of the following Boolean expressions is not logically equivalent to the other three?<br>\n",
    "a) not(-6<0 or-6>10)<br>\n",
    "b) -6>=0 and -6<=10<br>\n",
    "c) not(-6<10 or-6==10)<br>\n",
    "d) not(-6>10 or-6==10)"
   ]
  },
  {
   "cell_type": "markdown",
   "metadata": {},
   "source": [
    "16.What will be the output of the following Python code?<br><br>\n",
    "class tester:<br>\n",
    "    def __init__(self, id):<br>\n",
    "        self.id = str(id)<br>\n",
    "        id=\"224\"<br><br>\n",
    "temp = tester(12)<br>\n",
    "print(temp.id)<br><br>\n",
    "a) 224<br>\n",
    "b) Error<br>\n",
    "c) 12<br>\n",
    "d) None"
   ]
  },
  {
   "cell_type": "markdown",
   "metadata": {},
   "source": [
    "17.Say s=”hello” what will be the return value of type(s)?<br>\n",
    "a) int<br>\n",
    "b) bool<br>\n",
    "c) str<br>\n",
    "d) String"
   ]
  },
  {
   "cell_type": "markdown",
   "metadata": {},
   "source": [
    "18.What will be the output of the following Python code snippet?<br><br>\n",
    "l=[1, 2, 4, 5, 2, 'xy', 4]<br>\n",
    "set(l)<br><br>\n",
    "a)<br>\n",
    "{1, 2, 4, 5, 2, ‘xy’, 4}<br><br>\n",
    "b)<br>\n",
    "{1, 2, 4, 5, ‘xy’}<br><br>\n",
    "c)<br>\n",
    "{1, 5, ‘xy’}<br><br>\n",
    "d)<br>\n",
    "[1, 2, 4, 5, ‘xy’]"
   ]
  },
  {
   "cell_type": "markdown",
   "metadata": {},
   "source": [
    "19.In order to store values in terms of key and value we use what core data type.<br>\n",
    "a) list<br>\n",
    "b) tuple<br>\n",
    "c) class<br>\n",
    "d) dictionary"
   ]
  },
  {
   "cell_type": "markdown",
   "metadata": {},
   "source": [
    "20.What will be the output of the following Python code?<br><br>\n",
    "i = 0<br>\n",
    "while i < 5:\n",
    ">print(i)<br>\n",
    "i += 1<br>\n",
    "if i == 3:\n",
    ">>break\n",
    "\n",
    "else:\n",
    ">print(0)\n",
    "    \n",
    "a) 0 1 2 0<br>\n",
    "b) 0 1 2<br>\n",
    "c) error<br>\n",
    "d) none of the mentioned"
   ]
  },
  {
   "cell_type": "code",
   "execution_count": null,
   "metadata": {},
   "outputs": [],
   "source": []
  },
  {
   "cell_type": "code",
   "execution_count": null,
   "metadata": {},
   "outputs": [],
   "source": []
  },
  {
   "cell_type": "code",
   "execution_count": null,
   "metadata": {},
   "outputs": [],
   "source": []
  },
  {
   "cell_type": "code",
   "execution_count": null,
   "metadata": {},
   "outputs": [],
   "source": []
  },
  {
   "cell_type": "code",
   "execution_count": null,
   "metadata": {},
   "outputs": [],
   "source": []
  },
  {
   "cell_type": "code",
   "execution_count": null,
   "metadata": {},
   "outputs": [],
   "source": []
  },
  {
   "cell_type": "code",
   "execution_count": null,
   "metadata": {},
   "outputs": [],
   "source": []
  },
  {
   "cell_type": "code",
   "execution_count": null,
   "metadata": {},
   "outputs": [],
   "source": []
  },
  {
   "cell_type": "code",
   "execution_count": null,
   "metadata": {},
   "outputs": [],
   "source": []
  },
  {
   "cell_type": "code",
   "execution_count": null,
   "metadata": {},
   "outputs": [],
   "source": []
  },
  {
   "cell_type": "code",
   "execution_count": null,
   "metadata": {},
   "outputs": [],
   "source": []
  },
  {
   "cell_type": "code",
   "execution_count": null,
   "metadata": {},
   "outputs": [],
   "source": []
  },
  {
   "cell_type": "code",
   "execution_count": null,
   "metadata": {},
   "outputs": [],
   "source": []
  },
  {
   "cell_type": "code",
   "execution_count": null,
   "metadata": {},
   "outputs": [],
   "source": []
  },
  {
   "cell_type": "code",
   "execution_count": null,
   "metadata": {},
   "outputs": [],
   "source": []
  },
  {
   "cell_type": "code",
   "execution_count": null,
   "metadata": {},
   "outputs": [],
   "source": []
  },
  {
   "cell_type": "code",
   "execution_count": null,
   "metadata": {},
   "outputs": [],
   "source": []
  },
  {
   "cell_type": "code",
   "execution_count": null,
   "metadata": {},
   "outputs": [],
   "source": []
  },
  {
   "cell_type": "code",
   "execution_count": null,
   "metadata": {},
   "outputs": [],
   "source": []
  },
  {
   "cell_type": "code",
   "execution_count": null,
   "metadata": {},
   "outputs": [],
   "source": []
  },
  {
   "cell_type": "code",
   "execution_count": null,
   "metadata": {},
   "outputs": [],
   "source": [
    "1.c\n",
    "2.a\n",
    "3.c\n",
    "4.d\n",
    "5.b\n",
    "6.b\n",
    "7.c\n",
    "8.b\n",
    "9.b\n",
    "10.c\n",
    "11.c\n",
    "12.c\n",
    "13.b\n",
    "14.b\n",
    "15.d\n",
    "16.c\n",
    "17.c\n",
    "18.b\n",
    "19.d\n",
    "20.b"
   ]
  }
 ],
 "metadata": {
  "kernelspec": {
   "display_name": "Python 3",
   "language": "python",
   "name": "python3"
  },
  "language_info": {
   "codemirror_mode": {
    "name": "ipython",
    "version": 3
   },
   "file_extension": ".py",
   "mimetype": "text/x-python",
   "name": "python",
   "nbconvert_exporter": "python",
   "pygments_lexer": "ipython3",
   "version": "3.7.3"
  },
  "nbTranslate": {
   "displayLangs": [
    "*"
   ],
   "hotkey": "alt-t",
   "langInMainMenu": true,
   "sourceLang": "en",
   "targetLang": "fr",
   "useGoogleTranslate": true
  },
  "toc": {
   "base_numbering": 1,
   "nav_menu": {},
   "number_sections": true,
   "sideBar": true,
   "skip_h1_title": false,
   "title_cell": "Table of Contents",
   "title_sidebar": "Contents",
   "toc_cell": false,
   "toc_position": {},
   "toc_section_display": true,
   "toc_window_display": false
  },
  "varInspector": {
   "cols": {
    "lenName": 16,
    "lenType": 16,
    "lenVar": 40
   },
   "kernels_config": {
    "python": {
     "delete_cmd_postfix": "",
     "delete_cmd_prefix": "del ",
     "library": "var_list.py",
     "varRefreshCmd": "print(var_dic_list())"
    },
    "r": {
     "delete_cmd_postfix": ") ",
     "delete_cmd_prefix": "rm(",
     "library": "var_list.r",
     "varRefreshCmd": "cat(var_dic_list()) "
    }
   },
   "types_to_exclude": [
    "module",
    "function",
    "builtin_function_or_method",
    "instance",
    "_Feature"
   ],
   "window_display": false
  }
 },
 "nbformat": 4,
 "nbformat_minor": 2
}
